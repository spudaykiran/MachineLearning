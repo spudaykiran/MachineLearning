{
 "cells": [
  {
   "cell_type": "code",
   "execution_count": 1,
   "id": "397ed27a",
   "metadata": {},
   "outputs": [
    {
     "ename": "SyntaxError",
     "evalue": "EOL while scanning string literal (Temp/ipykernel_8644/1394210832.py, line 8)",
     "output_type": "error",
     "traceback": [
      "\u001b[1;36m  File \u001b[1;32m\"C:\\Users\\Admin\\AppData\\Local\\Temp/ipykernel_8644/1394210832.py\"\u001b[1;36m, line \u001b[1;32m8\u001b[0m\n\u001b[1;33m    df = pd.read_csv(\"https://archive.ics.uci.edu/ml/machine-learning-databases/wine-quality\u001b[0m\n\u001b[1;37m                                                                                            ^\u001b[0m\n\u001b[1;31mSyntaxError\u001b[0m\u001b[1;31m:\u001b[0m EOL while scanning string literal\n"
     ]
    }
   ],
   "source": [
    "import pandas as pd\n",
    "from sklearn.model_selection import train_test_split\n",
    "from sklearn.svm import SVC\n",
    "from sklearn.metrics import classification_report, confusion_matrix\n",
    "import matplotlib.pyplot as plt\n",
    "import seaborn as sns\n",
    "# Load winequality dataset\n",
    "df = pd.read_csv( \"https://archive.ics.uci.edu/ml/machine-learning-databases/wine-quality/winequality-white.csv\", sep= \";\")\n",
    "# Split data into training and testing sets\n",
    "X = df.drop(columns=['quality'])\n",
    "y = df['quality']\n",
    "X_train, X_test, y_train, y_test = train_test_split(X, y, test_size=0.2, random_state=42\n",
    "# Train linear SVM model\n",
    "linear_svm = SVC(kernel='linear')\n",
    "linear_svm.fit(X_train, y_train)\n",
    "# Print classification report\n",
    "y_pred = linear_svm.predict(X_test)\n",
    "print(\"Linear SVM\")\n",
    "print(classification_report(y_test, y_pred))\n",
    "# Plot confusion matrix\n",
    "cm = confusion_matrix(y_test, y_pred)\n",
    "fig, ax = plt.subplots(figsize=(10,10))\n",
    "sns.heatmap(cm, annot=True, fmt='d', cmap=plt.cm.Blues, cbar=False)\n",
    "plt.xlabel('Predicted')\n",
    "plt.ylabel('Actual')\n",
    "plt.title('Confusion matrix - Linear SVM')\n",
    "plt.show()\n",
    "# Plot histogram of predicted class probabilities\n",
    "proba = linear_svm.decision_function(X_test)\n",
    "plt.hist(proba, bins=50)\n",
    "plt.xlabel('Predicted Decision Function Value')\n",
    "plt.ylabel('Count')\n",
    "plt.title('Histogram of Predicted Decision Function Values - Linear SVM')\n",
    "plt.show()\n",
    "# Train non-linear SVM model\n",
    "nonlinear_svm = SVC(kernel='rbf', gamma=0.1, C=10)\n",
    "nonlinear_svm.fit(X_train, y_train)\n",
    "# Print classification report\n",
    "y_pred = nonlinear_svm.predict(X_test)\n",
    "print(\"Non-Linear SVM\")\n",
    "print(classification_report(y_test, y_pred))\n",
    "# Plot confusion matrix\n",
    "cm = confusion_matrix(y_test, y_pred)\n",
    "fig, ax = plt.subplots(figsize=(10,10))\n",
    "sns.heatmap(cm, annot=True, fmt='d', cmap=plt.cm.Blues, cbar=False)\n",
    "plt.xlabel('Predicted')\n",
    "plt.ylabel('Actual')\n",
    "plt.title('Confusion matrix - Non-Linear SVM')\n",
    "plt.show()\n"
   ]
  },
  {
   "cell_type": "code",
   "execution_count": null,
   "id": "38469982",
   "metadata": {},
   "outputs": [],
   "source": []
  }
 ],
 "metadata": {
  "kernelspec": {
   "display_name": "Python 3 (ipykernel)",
   "language": "python",
   "name": "python3"
  },
  "language_info": {
   "codemirror_mode": {
    "name": "ipython",
    "version": 3
   },
   "file_extension": ".py",
   "mimetype": "text/x-python",
   "name": "python",
   "nbconvert_exporter": "python",
   "pygments_lexer": "ipython3",
   "version": "3.9.7"
  }
 },
 "nbformat": 4,
 "nbformat_minor": 5
}
