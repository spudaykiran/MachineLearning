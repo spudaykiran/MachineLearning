{
 "cells": [
  {
   "cell_type": "code",
   "execution_count": null,
   "id": "aa297ce9",
   "metadata": {},
   "outputs": [],
   "source": [
    "import pandas as pd\n",
    "import numpy as np\n",
    "import matplotlib.pyplot as plt\n",
    "from sklearn.linear_model import LinearRegression\n",
    "from sklearn.preprocessing import PolynomialFeatures\n",
    "from sklearn.metrics import mean_squared_error, r2_score\n",
    "from sklearn.model_selection import learning_curve\n",
    "from sklearn.model_selection import train_test_split"
   ]
  },
  {
   "cell_type": "code",
   "execution_count": null,
   "id": "bb83201c",
   "metadata": {},
   "outputs": [],
   "source": [
    "url = \"https://archive.ics.uci.edu/ml/machine-learning-databases/wine-quality/winequality-white.csv\"\n",
    "data = pd.read_csv(url, sep=';')\n",
    "print(data.info())\n",
    "data"
   ]
  },
  {
   "cell_type": "code",
   "execution_count": null,
   "id": "81b99994",
   "metadata": {},
   "outputs": [],
   "source": [
    "x = data[['alcohol']].values\n",
    "y = data['quality'].values\n",
    "x_train, x_test, y_train, y_test = train_test_split(x, y, test_size =.2, random_state = 0)"
   ]
  },
  {
   "cell_type": "code",
   "execution_count": null,
   "id": "9505a225",
   "metadata": {},
   "outputs": [],
   "source": [
    "#fit the data into regression model\n",
    "LR = LinearRegression()\n",
    "LR.fit(x_train, y_train)"
   ]
  },
  {
   "cell_type": "code",
   "execution_count": null,
   "id": "a97187f1",
   "metadata": {},
   "outputs": [],
   "source": [
    "#fit a polynomial regression model to the data\n",
    "#polynomial line gives better fit than linear line\n",
    "poly = PolynomialFeatures(degree = 2)\n",
    "x_poly_train = poly.fit_transform(x_train)\n",
    "x_poly_test = poly.fit_transform(x_test)\n",
    "poly_reg = LinearRegression()\n",
    "poly_reg.fit(x_poly_train, y_train)"
   ]
  },
  {
   "cell_type": "code",
   "execution_count": null,
   "id": "c5a8e8e3",
   "metadata": {},
   "outputs": [],
   "source": [
    "print(x_train.shape)\n",
    "print(x_poly_train.shape)"
   ]
  },
  {
   "cell_type": "code",
   "execution_count": null,
   "id": "dd208fa6",
   "metadata": {},
   "outputs": [],
   "source": [
    "y_pred_lin = LR.predict(x_test)\n",
    "y_pred_poly = poly_reg.predict(x_poly_test)"
   ]
  },
  {
   "cell_type": "code",
   "execution_count": null,
   "id": "051285e2",
   "metadata": {},
   "outputs": [],
   "source": [
    "#printing the performance of regression and polynomial models \n",
    "\n",
    "print(\"Linear Regression Metrics : \")\n",
    "mse_lin = mean_squared_error(y_test, y_pred_lin)\n",
    "rmse_lin = np.sqrt(mse_lin)\n",
    "r2_lin = r2_score(y_test, y_pred_lin)\n",
    "\n",
    "print(\"Mean Squared Error : \", mse_lin)\n",
    "print(\"Root Mean Squared Error : \", rmse_lin)\n",
    "print(\"R2 Score : \", r2_lin)"
   ]
  },
  {
   "cell_type": "code",
   "execution_count": null,
   "id": "0ae60c68",
   "metadata": {},
   "outputs": [],
   "source": [
    "print(\"Polynomial Regression Metrics : \")\n",
    "mse_poly = mean_squared_error(y_test, y_pred_poly)\n",
    "rmse_poly = np.sqrt(mse_poly)\n",
    "r2_poly = r2_score(y_test, y_pred_poly)\n",
    "\n",
    "print(\"Mean Squared Error : \", mse_poly)\n",
    "print(\"Root Mean Squared Error : \", rmse_poly)\n",
    "print(\"R2 Score : \", r2_poly)"
   ]
  },
  {
   "cell_type": "code",
   "execution_count": null,
   "id": "16a130c9",
   "metadata": {},
   "outputs": [],
   "source": [
    "#ploting the learning curvees\n",
    "\n",
    "train_sizes, train_scores_lin, test_scores_lin = learning_curve(LR, x, y, cv = 5)\n",
    "train_sizes, train_scores_poly, test_scores_poly = learning_curve(poly_reg, x_poly_train, y_train, cv = 5)\n",
    "\n",
    "train_mean_lin = np.mean(train_scores_lin, axis = 1)\n",
    "train_std_lin = np.std(train_scores_lin, axis = 1)\n",
    "\n",
    "test_mean_lin = np.mean(test_scores_lin, axis = 1)\n",
    "test_std_lin = np.std(test_scores_lin, axis = 1)\n",
    "\n",
    "train_mean_poly = np.mean(train_scores_poly, axis = 1)\n",
    "train_std_poly = np.std(train_scores_poly, axis = 1)\n",
    "\n",
    "test_mean_poly = np.mean(test_scores_poly, axis = 1)\n",
    "test_std_poly = np.std(test_scores_poly, axis = 1)\n",
    "\n",
    "plt.figure(figsize=(12,6))\n",
    "plt.subplot(1,2,1)\n",
    "plt.plot(train_sizes, train_mean_lin, label = 'Training Score', color= 'Red')\n",
    "plt.plot(train_sizes, test_mean_lin, label = 'Cross-Validation Score', color= 'Green')\n",
    "plt.fill_between(train_sizes, train_mean_lin - train_std_lin, train_mean_lin + train_std_lin, alpha = 0.1, color= 'yellow')\n",
    "plt.fill_between(train_sizes, test_mean_lin - test_std_lin, test_mean_lin + test_std_lin, alpha = 0.1, color = 'Blue')\n",
    "plt.xlabel('Training Set Size')\n",
    "plt.show()\n",
    "\n",
    "plt.figure(figsize=(12,6))\n",
    "plt.subplot(1,2,2)\n",
    "plt.plot(train_sizes, train_mean_poly, label = 'Training Score', color= 'Red')\n",
    "plt.plot(train_sizes, test_mean_poly, label = 'Cross-Validation Score', color= 'Green')\n",
    "plt.fill_between(train_sizes, train_mean_poly - train_std_poly, train_mean_poly + train_std_poly, alpha = 0.1, color= 'yellow')\n",
    "plt.fill_between(train_sizes, test_mean_poly - test_std_poly, test_mean_poly + test_std_poly, alpha = 0.1, color = 'Blue')\n",
    "plt.xlabel('Training Set Size')\n",
    "plt.show()\n",
    "\n"
   ]
  }
 ],
 "metadata": {
  "kernelspec": {
   "display_name": "Python 3 (ipykernel)",
   "language": "python",
   "name": "python3"
  },
  "language_info": {
   "codemirror_mode": {
    "name": "ipython",
    "version": 3
   },
   "file_extension": ".py",
   "mimetype": "text/x-python",
   "name": "python",
   "nbconvert_exporter": "python",
   "pygments_lexer": "ipython3",
   "version": "3.9.7"
  }
 },
 "nbformat": 4,
 "nbformat_minor": 5
}
