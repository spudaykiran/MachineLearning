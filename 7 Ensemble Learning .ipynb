{
 "cells": [
  {
   "cell_type": "code",
   "execution_count": 6,
   "id": "d782fcbb",
   "metadata": {},
   "outputs": [],
   "source": [
    "import pandas as pd\n",
    "from sklearn.model_selection import train_test_split\n",
    "from sklearn.tree import DecisionTreeClassifier\n",
    "from sklearn.ensemble import BaggingClassifier\n",
    "from sklearn.metrics import classification_report\n"
   ]
  },
  {
   "cell_type": "code",
   "execution_count": 8,
   "id": "7d10d44c",
   "metadata": {},
   "outputs": [],
   "source": [
    "#loading the data set\n",
    "\n",
    "df = pd.read_csv(\"https://archive.ics.uci.edu/ml/machine-learning-databases/wine-quality/winequality-white.csv\", sep= ';')"
   ]
  },
  {
   "cell_type": "code",
   "execution_count": 65,
   "id": "ba1515d3",
   "metadata": {},
   "outputs": [],
   "source": [
    "#split the target data and data\n",
    "\n",
    "x = df.drop(columns=['quality'])\n",
    "y = df['quality']\n",
    "\n",
    "x_train, x_test, y_train, y_test = train_test_split(x, y, test_size= 0.2, random_state=42)"
   ]
  },
  {
   "cell_type": "code",
   "execution_count": 66,
   "id": "c1f60410",
   "metadata": {},
   "outputs": [
    {
     "data": {
      "text/plain": [
       "DecisionTreeClassifier(random_state=42)"
      ]
     },
     "execution_count": 66,
     "metadata": {},
     "output_type": "execute_result"
    }
   ],
   "source": [
    "#train the descion tree model\n",
    "\n",
    "dt = DecisionTreeClassifier(random_state=42)\n",
    "dt.fit(x_train, y_train)"
   ]
  },
  {
   "cell_type": "code",
   "execution_count": 67,
   "id": "4cf4825b",
   "metadata": {},
   "outputs": [],
   "source": [
    "#Predicting the values\n",
    "\n",
    "y_pred = dt.predict(x_test)"
   ]
  },
  {
   "cell_type": "code",
   "execution_count": 68,
   "id": "4c34c231",
   "metadata": {},
   "outputs": [],
   "source": [
    "from colorama import Fore\n"
   ]
  },
  {
   "cell_type": "code",
   "execution_count": 69,
   "id": "cc492fce",
   "metadata": {},
   "outputs": [
    {
     "name": "stdout",
     "output_type": "stream",
     "text": [
      "\u001b[32mClassification Report of Decision Tree : \n",
      "\u001b[31m               precision    recall  f1-score   support\n",
      "\n",
      "           3       0.00      0.00      0.00         5\n",
      "           4       0.24      0.28      0.26        25\n",
      "           5       0.66      0.64      0.65       291\n",
      "           6       0.64      0.63      0.63       432\n",
      "           7       0.61      0.59      0.60       192\n",
      "           8       0.31      0.49      0.38        35\n",
      "           9       0.00      0.00      0.00         0\n",
      "\n",
      "    accuracy                           0.61       980\n",
      "   macro avg       0.35      0.37      0.36       980\n",
      "weighted avg       0.61      0.61      0.61       980\n",
      "\n"
     ]
    },
    {
     "name": "stderr",
     "output_type": "stream",
     "text": [
      "C:\\ProgramData\\Anaconda3\\lib\\site-packages\\sklearn\\metrics\\_classification.py:1248: UndefinedMetricWarning: Recall and F-score are ill-defined and being set to 0.0 in labels with no true samples. Use `zero_division` parameter to control this behavior.\n",
      "  _warn_prf(average, modifier, msg_start, len(result))\n",
      "C:\\ProgramData\\Anaconda3\\lib\\site-packages\\sklearn\\metrics\\_classification.py:1248: UndefinedMetricWarning: Recall and F-score are ill-defined and being set to 0.0 in labels with no true samples. Use `zero_division` parameter to control this behavior.\n",
      "  _warn_prf(average, modifier, msg_start, len(result))\n",
      "C:\\ProgramData\\Anaconda3\\lib\\site-packages\\sklearn\\metrics\\_classification.py:1248: UndefinedMetricWarning: Recall and F-score are ill-defined and being set to 0.0 in labels with no true samples. Use `zero_division` parameter to control this behavior.\n",
      "  _warn_prf(average, modifier, msg_start, len(result))\n"
     ]
    }
   ],
   "source": [
    "#Printing the classification model\n",
    "print(Fore.GREEN +\"Classification Report of Decision Tree : \")\n",
    "print(Fore.RED, classification_report(y_test, y_pred))"
   ]
  },
  {
   "cell_type": "code",
   "execution_count": 70,
   "id": "6eeafb0e",
   "metadata": {},
   "outputs": [
    {
     "data": {
      "text/plain": [
       "BaggingClassifier(base_estimator=DecisionTreeClassifier(), bootstrap=False,\n",
       "                  n_estimators=100, random_state=42)"
      ]
     },
     "execution_count": 70,
     "metadata": {},
     "output_type": "execute_result"
    }
   ],
   "source": [
    "#Train the bagging classifier\n",
    "\n",
    "bc =BaggingClassifier(base_estimator= DecisionTreeClassifier(), n_estimators=100,bootstrap=False,  random_state=42)\n",
    "#fit the model\n",
    "bc.fit(x_train, y_train)"
   ]
  },
  {
   "cell_type": "code",
   "execution_count": 71,
   "id": "b5e758c9",
   "metadata": {},
   "outputs": [],
   "source": [
    "yb_pred = bc.predict(x_test)"
   ]
  },
  {
   "cell_type": "code",
   "execution_count": 72,
   "id": "10a4bbbe",
   "metadata": {},
   "outputs": [
    {
     "name": "stdout",
     "output_type": "stream",
     "text": [
      "\u001b[34mClassification Reportmodel of Bagging Classifier : \n",
      "\u001b[33m              precision    recall  f1-score   support\n",
      "\n",
      "           3       0.00      0.00      0.00         5\n",
      "           4       0.25      0.32      0.28        25\n",
      "           5       0.66      0.63      0.64       291\n",
      "           6       0.64      0.64      0.64       432\n",
      "           7       0.61      0.60      0.61       192\n",
      "           8       0.36      0.46      0.41        35\n",
      "           9       0.00      0.00      0.00         0\n",
      "\n",
      "    accuracy                           0.61       980\n",
      "   macro avg       0.36      0.38      0.37       980\n",
      "weighted avg       0.61      0.61      0.61       980\n",
      "\n"
     ]
    },
    {
     "name": "stderr",
     "output_type": "stream",
     "text": [
      "C:\\ProgramData\\Anaconda3\\lib\\site-packages\\sklearn\\metrics\\_classification.py:1248: UndefinedMetricWarning: Recall and F-score are ill-defined and being set to 0.0 in labels with no true samples. Use `zero_division` parameter to control this behavior.\n",
      "  _warn_prf(average, modifier, msg_start, len(result))\n",
      "C:\\ProgramData\\Anaconda3\\lib\\site-packages\\sklearn\\metrics\\_classification.py:1248: UndefinedMetricWarning: Recall and F-score are ill-defined and being set to 0.0 in labels with no true samples. Use `zero_division` parameter to control this behavior.\n",
      "  _warn_prf(average, modifier, msg_start, len(result))\n",
      "C:\\ProgramData\\Anaconda3\\lib\\site-packages\\sklearn\\metrics\\_classification.py:1248: UndefinedMetricWarning: Recall and F-score are ill-defined and being set to 0.0 in labels with no true samples. Use `zero_division` parameter to control this behavior.\n",
      "  _warn_prf(average, modifier, msg_start, len(result))\n"
     ]
    }
   ],
   "source": [
    "print(Fore.BLUE +\"Classification Reportmodel of Bagging Classifier : \")\n",
    "print(Fore.YELLOW + classification_report(y_test, yb_pred))"
   ]
  },
  {
   "cell_type": "code",
   "execution_count": 73,
   "id": "3d71979a",
   "metadata": {},
   "outputs": [
    {
     "name": "stdout",
     "output_type": "stream",
     "text": [
      "\u001b[31m 0.6061224489795919\n",
      "\u001b[32m 0.6112244897959184\n"
     ]
    }
   ],
   "source": [
    "#printing the scores\n",
    "from sklearn.metrics import accuracy_score\n",
    "\n",
    "print(Fore.RED , accuracy_score(y_test, y_pred))\n",
    "print(Fore.GREEN , accuracy_score(y_test, yb_pred))"
   ]
  },
  {
   "cell_type": "code",
   "execution_count": 74,
   "id": "50078d9a",
   "metadata": {},
   "outputs": [
    {
     "name": "stdout",
     "output_type": "stream",
     "text": [
      "\u001b[31mR2 Score of Bagging : \n",
      "\u001b[32m 0.19365854445525976\n"
     ]
    }
   ],
   "source": [
    "#printing the r2 scpore \n",
    "\n",
    "\n",
    "from sklearn.metrics import r2_score\n",
    "print(Fore.RED + \"R2 Score of Bagging : \")\n",
    "print(Fore.GREEN, r2_score(y_test, yb_pred))"
   ]
  },
  {
   "cell_type": "code",
   "execution_count": 77,
   "id": "652e3950",
   "metadata": {},
   "outputs": [
    {
     "name": "stdout",
     "output_type": "stream",
     "text": [
      "Out - of Bag Score :  0.6707503828483921\n"
     ]
    }
   ],
   "source": [
    "#Evaluate Out of Bag Score for Bagging Classifier\n",
    "\n",
    "bag_oob = BaggingClassifier(base_estimator = DecisionTreeClassifier(), n_estimators = 100, oob_score = True, random_state = 42)\n",
    "bag_oob.fit(x_train, y_train)\n",
    "oob_score = bag_oob.oob_score_\n",
    "print(\"Out - of Bag Score : \", oob_score)"
   ]
  },
  {
   "cell_type": "code",
   "execution_count": 78,
   "id": "23a182a7",
   "metadata": {},
   "outputs": [
    {
     "name": "stdout",
     "output_type": "stream",
     "text": [
      "0.6969387755102041\n"
     ]
    }
   ],
   "source": [
    "oob_ypred = bag_oob.predict(x_test)\n",
    "\n",
    "print(accuracy_score(y_test, oob_ypred))"
   ]
  },
  {
   "cell_type": "code",
   "execution_count": 80,
   "id": "2f7ca433",
   "metadata": {},
   "outputs": [
    {
     "data": {
      "image/png": "[encoded data removed]",
      "text/plain": [
       "<Figure size 576x576 with 1 Axes>"
      ]
     },
     "metadata": {
      "needs_background": "light"
     },
     "output_type": "display_data"
    }
   ],
   "source": [
    "# ploting the \n",
    "\n",
    "import matplotlib.pyplot as plt\n",
    "from sklearn.metrics import confusion_matrix\n",
    "import seaborn as sns\n",
    "\n",
    "cm = confusion_matrix(y_test, y_pred)\n",
    "fig, ax = plt.subplots(figsize = (8, 8))\n",
    "sns.heatmap(cm, annot= True, fmt = 'd', cmap = plt.cm.Reds, cbar = False)\n",
    "plt.xlabel(\"Predicted\")\n",
    "plt.ylabel(\"Actual\")\n",
    "plt.title(\"Confusion Matrix\")\n",
    "plt.show()"
   ]
  },
  {
   "cell_type": "code",
   "execution_count": 83,
   "id": "4c68a70c",
   "metadata": {},
   "outputs": [
    {
     "data": {
      "image/png": "[encoded data removed]",
      "text/plain": [
       "<Figure size 432x288 with 1 Axes>"
      ]
     },
     "metadata": {
      "needs_background": "light"
     },
     "output_type": "display_data"
    }
   ],
   "source": [
    "#plot the Histogram  of predicted quakity vcalues for bagging c;lassifiers\n",
    "\n",
    "plt.hist(yb_pred, bins = range(3, 15), align = \"left\")\n",
    "plt.xticks(range(3, 15))\n",
    "plt.xlabel(\"Predicted Quality\")\n",
    "plt.ylabel(\"Frequency \")\n",
    "plt.title(\"Histogram of predicted quakity vcalues for bagging classifiers\")\n",
    "plt.show()\n"
   ]
  },
  {
   "cell_type": "code",
   "execution_count": null,
   "id": "5b701a74",
   "metadata": {},
   "outputs": [],
   "source": []
  }
 ],
 "metadata": {
  "kernelspec": {
   "display_name": "Python 3 (ipykernel)",
   "language": "python",
   "name": "python3"
  },
  "language_info": {
   "codemirror_mode": {
    "name": "ipython",
    "version": 3
   },
   "file_extension": ".py",
   "mimetype": "text/x-python",
   "name": "python",
   "nbconvert_exporter": "python",
   "pygments_lexer": "ipython3",
   "version": "3.9.7"
  }
 },
 "nbformat": 4,
 "nbformat_minor": 5
}
